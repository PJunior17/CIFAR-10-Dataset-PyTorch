{
  "nbformat": 4,
  "nbformat_minor": 0,
  "metadata": {
    "colab": {
      "provenance": [],
      "gpuType": "T4",
      "authorship_tag": "ABX9TyOozsB+tIyH35Vu9xVNmnj7",
      "include_colab_link": true
    },
    "kernelspec": {
      "name": "python3",
      "display_name": "Python 3"
    },
    "language_info": {
      "name": "python"
    },
    "accelerator": "GPU",
    "widgets": {
      "application/vnd.jupyter.widget-state+json": {
        "b0146fb97d464b03bf7981a790c8a9df": {
          "model_module": "@jupyter-widgets/controls",
          "model_name": "HBoxModel",
          "model_module_version": "1.5.0",
          "state": {
            "_dom_classes": [],
            "_model_module": "@jupyter-widgets/controls",
            "_model_module_version": "1.5.0",
            "_model_name": "HBoxModel",
            "_view_count": null,
            "_view_module": "@jupyter-widgets/controls",
            "_view_module_version": "1.5.0",
            "_view_name": "HBoxView",
            "box_style": "",
            "children": [
              "IPY_MODEL_1cdf164279ae4b1da347355b0df5a3e9",
              "IPY_MODEL_be22b51f52ac4170abdcab02766c8d6d",
              "IPY_MODEL_84227b467051426db28ed0f9f3102897"
            ],
            "layout": "IPY_MODEL_8fcae0f7e70d493ebbb75da0bb7581b3"
          }
        },
        "1cdf164279ae4b1da347355b0df5a3e9": {
          "model_module": "@jupyter-widgets/controls",
          "model_name": "HTMLModel",
          "model_module_version": "1.5.0",
          "state": {
            "_dom_classes": [],
            "_model_module": "@jupyter-widgets/controls",
            "_model_module_version": "1.5.0",
            "_model_name": "HTMLModel",
            "_view_count": null,
            "_view_module": "@jupyter-widgets/controls",
            "_view_module_version": "1.5.0",
            "_view_name": "HTMLView",
            "description": "",
            "description_tooltip": null,
            "layout": "IPY_MODEL_8e0568a113b5405ab2a63d87693b63be",
            "placeholder": "​",
            "style": "IPY_MODEL_6b54e6ba12374943a55fe336a31e6ba8",
            "value": "100%"
          }
        },
        "be22b51f52ac4170abdcab02766c8d6d": {
          "model_module": "@jupyter-widgets/controls",
          "model_name": "FloatProgressModel",
          "model_module_version": "1.5.0",
          "state": {
            "_dom_classes": [],
            "_model_module": "@jupyter-widgets/controls",
            "_model_module_version": "1.5.0",
            "_model_name": "FloatProgressModel",
            "_view_count": null,
            "_view_module": "@jupyter-widgets/controls",
            "_view_module_version": "1.5.0",
            "_view_name": "ProgressView",
            "bar_style": "success",
            "description": "",
            "description_tooltip": null,
            "layout": "IPY_MODEL_e7ec8cf089cd471090da26bd7fe2a210",
            "max": 6,
            "min": 0,
            "orientation": "horizontal",
            "style": "IPY_MODEL_7c17ba98621f4ab785a59339495e3d6e",
            "value": 6
          }
        },
        "84227b467051426db28ed0f9f3102897": {
          "model_module": "@jupyter-widgets/controls",
          "model_name": "HTMLModel",
          "model_module_version": "1.5.0",
          "state": {
            "_dom_classes": [],
            "_model_module": "@jupyter-widgets/controls",
            "_model_module_version": "1.5.0",
            "_model_name": "HTMLModel",
            "_view_count": null,
            "_view_module": "@jupyter-widgets/controls",
            "_view_module_version": "1.5.0",
            "_view_name": "HTMLView",
            "description": "",
            "description_tooltip": null,
            "layout": "IPY_MODEL_d00e1af1a3314e18b8e50c5fbc3cb601",
            "placeholder": "​",
            "style": "IPY_MODEL_c3f5fd1a6ae1474282828aeebb1a75e3",
            "value": " 6/6 [01:37&lt;00:00, 16.35s/it]"
          }
        },
        "8fcae0f7e70d493ebbb75da0bb7581b3": {
          "model_module": "@jupyter-widgets/base",
          "model_name": "LayoutModel",
          "model_module_version": "1.2.0",
          "state": {
            "_model_module": "@jupyter-widgets/base",
            "_model_module_version": "1.2.0",
            "_model_name": "LayoutModel",
            "_view_count": null,
            "_view_module": "@jupyter-widgets/base",
            "_view_module_version": "1.2.0",
            "_view_name": "LayoutView",
            "align_content": null,
            "align_items": null,
            "align_self": null,
            "border": null,
            "bottom": null,
            "display": null,
            "flex": null,
            "flex_flow": null,
            "grid_area": null,
            "grid_auto_columns": null,
            "grid_auto_flow": null,
            "grid_auto_rows": null,
            "grid_column": null,
            "grid_gap": null,
            "grid_row": null,
            "grid_template_areas": null,
            "grid_template_columns": null,
            "grid_template_rows": null,
            "height": null,
            "justify_content": null,
            "justify_items": null,
            "left": null,
            "margin": null,
            "max_height": null,
            "max_width": null,
            "min_height": null,
            "min_width": null,
            "object_fit": null,
            "object_position": null,
            "order": null,
            "overflow": null,
            "overflow_x": null,
            "overflow_y": null,
            "padding": null,
            "right": null,
            "top": null,
            "visibility": null,
            "width": null
          }
        },
        "8e0568a113b5405ab2a63d87693b63be": {
          "model_module": "@jupyter-widgets/base",
          "model_name": "LayoutModel",
          "model_module_version": "1.2.0",
          "state": {
            "_model_module": "@jupyter-widgets/base",
            "_model_module_version": "1.2.0",
            "_model_name": "LayoutModel",
            "_view_count": null,
            "_view_module": "@jupyter-widgets/base",
            "_view_module_version": "1.2.0",
            "_view_name": "LayoutView",
            "align_content": null,
            "align_items": null,
            "align_self": null,
            "border": null,
            "bottom": null,
            "display": null,
            "flex": null,
            "flex_flow": null,
            "grid_area": null,
            "grid_auto_columns": null,
            "grid_auto_flow": null,
            "grid_auto_rows": null,
            "grid_column": null,
            "grid_gap": null,
            "grid_row": null,
            "grid_template_areas": null,
            "grid_template_columns": null,
            "grid_template_rows": null,
            "height": null,
            "justify_content": null,
            "justify_items": null,
            "left": null,
            "margin": null,
            "max_height": null,
            "max_width": null,
            "min_height": null,
            "min_width": null,
            "object_fit": null,
            "object_position": null,
            "order": null,
            "overflow": null,
            "overflow_x": null,
            "overflow_y": null,
            "padding": null,
            "right": null,
            "top": null,
            "visibility": null,
            "width": null
          }
        },
        "6b54e6ba12374943a55fe336a31e6ba8": {
          "model_module": "@jupyter-widgets/controls",
          "model_name": "DescriptionStyleModel",
          "model_module_version": "1.5.0",
          "state": {
            "_model_module": "@jupyter-widgets/controls",
            "_model_module_version": "1.5.0",
            "_model_name": "DescriptionStyleModel",
            "_view_count": null,
            "_view_module": "@jupyter-widgets/base",
            "_view_module_version": "1.2.0",
            "_view_name": "StyleView",
            "description_width": ""
          }
        },
        "e7ec8cf089cd471090da26bd7fe2a210": {
          "model_module": "@jupyter-widgets/base",
          "model_name": "LayoutModel",
          "model_module_version": "1.2.0",
          "state": {
            "_model_module": "@jupyter-widgets/base",
            "_model_module_version": "1.2.0",
            "_model_name": "LayoutModel",
            "_view_count": null,
            "_view_module": "@jupyter-widgets/base",
            "_view_module_version": "1.2.0",
            "_view_name": "LayoutView",
            "align_content": null,
            "align_items": null,
            "align_self": null,
            "border": null,
            "bottom": null,
            "display": null,
            "flex": null,
            "flex_flow": null,
            "grid_area": null,
            "grid_auto_columns": null,
            "grid_auto_flow": null,
            "grid_auto_rows": null,
            "grid_column": null,
            "grid_gap": null,
            "grid_row": null,
            "grid_template_areas": null,
            "grid_template_columns": null,
            "grid_template_rows": null,
            "height": null,
            "justify_content": null,
            "justify_items": null,
            "left": null,
            "margin": null,
            "max_height": null,
            "max_width": null,
            "min_height": null,
            "min_width": null,
            "object_fit": null,
            "object_position": null,
            "order": null,
            "overflow": null,
            "overflow_x": null,
            "overflow_y": null,
            "padding": null,
            "right": null,
            "top": null,
            "visibility": null,
            "width": null
          }
        },
        "7c17ba98621f4ab785a59339495e3d6e": {
          "model_module": "@jupyter-widgets/controls",
          "model_name": "ProgressStyleModel",
          "model_module_version": "1.5.0",
          "state": {
            "_model_module": "@jupyter-widgets/controls",
            "_model_module_version": "1.5.0",
            "_model_name": "ProgressStyleModel",
            "_view_count": null,
            "_view_module": "@jupyter-widgets/base",
            "_view_module_version": "1.2.0",
            "_view_name": "StyleView",
            "bar_color": null,
            "description_width": ""
          }
        },
        "d00e1af1a3314e18b8e50c5fbc3cb601": {
          "model_module": "@jupyter-widgets/base",
          "model_name": "LayoutModel",
          "model_module_version": "1.2.0",
          "state": {
            "_model_module": "@jupyter-widgets/base",
            "_model_module_version": "1.2.0",
            "_model_name": "LayoutModel",
            "_view_count": null,
            "_view_module": "@jupyter-widgets/base",
            "_view_module_version": "1.2.0",
            "_view_name": "LayoutView",
            "align_content": null,
            "align_items": null,
            "align_self": null,
            "border": null,
            "bottom": null,
            "display": null,
            "flex": null,
            "flex_flow": null,
            "grid_area": null,
            "grid_auto_columns": null,
            "grid_auto_flow": null,
            "grid_auto_rows": null,
            "grid_column": null,
            "grid_gap": null,
            "grid_row": null,
            "grid_template_areas": null,
            "grid_template_columns": null,
            "grid_template_rows": null,
            "height": null,
            "justify_content": null,
            "justify_items": null,
            "left": null,
            "margin": null,
            "max_height": null,
            "max_width": null,
            "min_height": null,
            "min_width": null,
            "object_fit": null,
            "object_position": null,
            "order": null,
            "overflow": null,
            "overflow_x": null,
            "overflow_y": null,
            "padding": null,
            "right": null,
            "top": null,
            "visibility": null,
            "width": null
          }
        },
        "c3f5fd1a6ae1474282828aeebb1a75e3": {
          "model_module": "@jupyter-widgets/controls",
          "model_name": "DescriptionStyleModel",
          "model_module_version": "1.5.0",
          "state": {
            "_model_module": "@jupyter-widgets/controls",
            "_model_module_version": "1.5.0",
            "_model_name": "DescriptionStyleModel",
            "_view_count": null,
            "_view_module": "@jupyter-widgets/base",
            "_view_module_version": "1.2.0",
            "_view_name": "StyleView",
            "description_width": ""
          }
        }
      }
    }
  },
  "cells": [
    {
      "cell_type": "markdown",
      "metadata": {
        "id": "view-in-github",
        "colab_type": "text"
      },
      "source": [
        "<a href=\"https://colab.research.google.com/github/PJunior17/CIFAR-10-Dataset-PyTorch/blob/main/Cifar10_Dataset_Pytorch.ipynb\" target=\"_parent\"><img src=\"https://colab.research.google.com/assets/colab-badge.svg\" alt=\"Open In Colab\"/></a>"
      ]
    },
    {
      "cell_type": "markdown",
      "source": [
        "## Imports"
      ],
      "metadata": {
        "id": "acnB-A14svO2"
      }
    },
    {
      "cell_type": "code",
      "execution_count": 2,
      "metadata": {
        "id": "3h7COBOjp7X5"
      },
      "outputs": [],
      "source": [
        "%%capture\n",
        "! pip install torch\n",
        "! pip install torchvision\n",
        "! pip install torchmetrics\n",
        "! pip install matplotlib\n",
        "! pip install numpy"
      ]
    },
    {
      "cell_type": "code",
      "source": [
        "import torch\n",
        "import torch.nn as nn\n",
        "from torch.utils.data import DataLoader\n",
        "import torchvision\n",
        "from torchvision import datasets\n",
        "from torchvision.transforms import ToTensor\n",
        "import torchmetrics\n",
        "from torchmetrics import Accuracy\n",
        "\n",
        "import matplotlib.pyplot as plt\n",
        "import numpy as np\n",
        "\n",
        "device = 'cuda' if torch.cuda.is_available() else 'cpu'"
      ],
      "metadata": {
        "id": "UAgjtpJxrCYF"
      },
      "execution_count": 3,
      "outputs": []
    },
    {
      "cell_type": "markdown",
      "source": [
        "## Prepare and Load Data"
      ],
      "metadata": {
        "id": "TqtDjh98rwvm"
      }
    },
    {
      "cell_type": "code",
      "source": [
        "train_data = datasets.CIFAR10(root='data',\n",
        "                              train=True,\n",
        "                              transform=ToTensor(),\n",
        "                              download=True)\n",
        "\n",
        "test_data = datasets.CIFAR10(root='data',\n",
        "                             train=False,\n",
        "                             transform=ToTensor(),\n",
        "                             download=True)"
      ],
      "metadata": {
        "colab": {
          "base_uri": "https://localhost:8080/"
        },
        "id": "niNccXs-sCSN",
        "outputId": "426acef4-d3cf-4f28-ccce-72d17f5af845"
      },
      "execution_count": 4,
      "outputs": [
        {
          "output_type": "stream",
          "name": "stdout",
          "text": [
            "Downloading https://www.cs.toronto.edu/~kriz/cifar-10-python.tar.gz to data/cifar-10-python.tar.gz\n"
          ]
        },
        {
          "output_type": "stream",
          "name": "stderr",
          "text": [
            "100%|██████████| 170498071/170498071 [00:03<00:00, 43547947.13it/s]\n"
          ]
        },
        {
          "output_type": "stream",
          "name": "stdout",
          "text": [
            "Extracting data/cifar-10-python.tar.gz to data\n",
            "Files already downloaded and verified\n"
          ]
        }
      ]
    },
    {
      "cell_type": "markdown",
      "source": [
        "## Looking at the Data"
      ],
      "metadata": {
        "id": "tZgruy9ksiYT"
      }
    },
    {
      "cell_type": "code",
      "source": [
        "image, label = train_data[0]\n",
        "image.shape #the shape of a torch tensor is the color channel, height, width"
      ],
      "metadata": {
        "colab": {
          "base_uri": "https://localhost:8080/"
        },
        "id": "dObgwVKYstox",
        "outputId": "e80aa5b7-a86a-4699-8804-d933fed98207"
      },
      "execution_count": 5,
      "outputs": [
        {
          "output_type": "execute_result",
          "data": {
            "text/plain": [
              "torch.Size([3, 32, 32])"
            ]
          },
          "metadata": {},
          "execution_count": 5
        }
      ]
    },
    {
      "cell_type": "code",
      "source": [
        "len(train_data.data), len(train_data.targets), len(test_data.data), len(test_data.targets)"
      ],
      "metadata": {
        "colab": {
          "base_uri": "https://localhost:8080/"
        },
        "id": "CRBkRRZZs2iM",
        "outputId": "ad4791c6-1746-4a71-e710-307d93834b50"
      },
      "execution_count": 6,
      "outputs": [
        {
          "output_type": "execute_result",
          "data": {
            "text/plain": [
              "(50000, 50000, 10000, 10000)"
            ]
          },
          "metadata": {},
          "execution_count": 6
        }
      ]
    },
    {
      "cell_type": "code",
      "source": [
        "class_names = train_data.classes\n",
        "class_names, len(class_names) #here are all of our classes and how many of them, this tells us our output shape"
      ],
      "metadata": {
        "colab": {
          "base_uri": "https://localhost:8080/"
        },
        "id": "i35kDiDTtLnn",
        "outputId": "117c8e0a-2b07-4dd8-ecd5-075553a3ac0a"
      },
      "execution_count": 7,
      "outputs": [
        {
          "output_type": "execute_result",
          "data": {
            "text/plain": [
              "(['airplane',\n",
              "  'automobile',\n",
              "  'bird',\n",
              "  'cat',\n",
              "  'deer',\n",
              "  'dog',\n",
              "  'frog',\n",
              "  'horse',\n",
              "  'ship',\n",
              "  'truck'],\n",
              " 10)"
            ]
          },
          "metadata": {},
          "execution_count": 7
        }
      ]
    },
    {
      "cell_type": "code",
      "source": [
        "#lets print out an image\n",
        "print('Image Size: %s' % (str(image.shape)))\n",
        "\n",
        "image = image.permute(1,2,0) #we need to switch the spot where the color channel is cuz the other libraries put color channel as the 3rd element\n",
        "plt.imshow(image)\n",
        "plt.title(class_names[label])\n"
      ],
      "metadata": {
        "colab": {
          "base_uri": "https://localhost:8080/",
          "height": 0
        },
        "id": "oukTfHvjtUaM",
        "outputId": "de45bfd7-0eaa-4b1a-b3b4-7706780b554f"
      },
      "execution_count": 8,
      "outputs": [
        {
          "output_type": "stream",
          "name": "stdout",
          "text": [
            "Image Size: torch.Size([3, 32, 32])\n"
          ]
        },
        {
          "output_type": "execute_result",
          "data": {
            "text/plain": [
              "Text(0.5, 1.0, 'frog')"
            ]
          },
          "metadata": {},
          "execution_count": 8
        },
        {
          "output_type": "display_data",
          "data": {
            "text/plain": [
              "<Figure size 640x480 with 1 Axes>"
            ],
            "image/png": "[encoded data removed]"
          },
          "metadata": {}
        }
      ]
    },
    {
      "cell_type": "code",
      "source": [
        "# lets show some more data\n",
        "torch.manual_seed(17)\n",
        "fig = plt.figure(figsize=(9,9))\n",
        "rows, cols = 4, 4\n",
        "\n",
        "for i in range (1, rows*cols+1):\n",
        "  random_idx = torch.randint(0, len(train_data), size=[1]).item()\n",
        "  img, label = train_data[random_idx]\n",
        "  img = img.permute(1,2,0)\n",
        "  fig.add_subplot(rows, cols, i)\n",
        "  plt.imshow(img)\n",
        "  plt.title(class_names[label])\n",
        "  plt.axis(False)"
      ],
      "metadata": {
        "colab": {
          "base_uri": "https://localhost:8080/",
          "height": 0
        },
        "id": "SJUyyqeeubhV",
        "outputId": "f50644fe-c406-4695-d3ff-eebd6d4eb8ac"
      },
      "execution_count": 9,
      "outputs": [
        {
          "output_type": "display_data",
          "data": {
            "text/plain": [
              "<Figure size 900x900 with 16 Axes>"
            ],
            "image/png": "[encoded data removed]"
          },
          "metadata": {}
        }
      ]
    },
    {
      "cell_type": "markdown",
      "source": [
        "## Create the Dataloader"
      ],
      "metadata": {
        "id": "gXx72vQOvNee"
      }
    },
    {
      "cell_type": "code",
      "source": [
        "batch_size = 32 #we can play with this number, https://chat.openai.com/c/b2a0fc5d-aba9-4d03-814e-21e279471dbd\n",
        "\n",
        "train_dataloader = DataLoader(dataset=train_data,\n",
        "                              batch_size=batch_size,\n",
        "                              shuffle=True)\n",
        "\n",
        "test_dataloader = DataLoader(dataset=test_data,\n",
        "                             batch_size=batch_size,\n",
        "                             shuffle=False)"
      ],
      "metadata": {
        "id": "akjjJ7n1vVP3"
      },
      "execution_count": 42,
      "outputs": []
    },
    {
      "cell_type": "markdown",
      "source": [
        "## Train and Test Functions"
      ],
      "metadata": {
        "id": "r3bKyosQwVFl"
      }
    },
    {
      "cell_type": "code",
      "source": [
        "def train(model:torch.nn.Module,\n",
        "          data_loader:torch.utils.data.DataLoader,\n",
        "          criterion:torch.nn.Module,\n",
        "          optimizer:torch.optim.Optimizer,\n",
        "          accuracy_fn,\n",
        "          device:torch.device=device):\n",
        "  train_loss, train_acc = 0, 0\n",
        "  model.to(device)\n",
        "  model.train()\n",
        "\n",
        "  for batch, (X, y) in enumerate(data_loader):\n",
        "    X, y = X.to(device), y.to(device)\n",
        "    y_pred = model(X)\n",
        "    loss = criterion(y_pred, y)\n",
        "    train_loss += loss\n",
        "    train_acc += accuracy_fn(y_pred, y)\n",
        "    optimizer.zero_grad()\n",
        "    loss.backward()\n",
        "    optimizer.step()\n",
        "\n",
        "  train_loss /= len(data_loader)\n",
        "  train_acc /= len(data_loader)\n",
        "\n",
        "  print('Train Loss: %s | Train Accuracy: %s' % (train_loss, train_acc))"
      ],
      "metadata": {
        "id": "p-MJFzK0wf0f"
      },
      "execution_count": 11,
      "outputs": []
    },
    {
      "cell_type": "code",
      "source": [
        "def test(model:torch.nn.Module,\n",
        "         data_loader:torch.utils.data.DataLoader,\n",
        "         criterion:torch.nn.Module,\n",
        "         optimizer:torch.optim.Optimizer,\n",
        "         accuracy_fn,\n",
        "         device:torch.device=device):\n",
        "  test_loss, test_acc = 0, 0\n",
        "  model.to(device)\n",
        "  model.eval()\n",
        "\n",
        "  with torch.inference_mode():\n",
        "    for X, y in data_loader:\n",
        "      X, y = X.to(device), y.to(device)\n",
        "      test_pred = model(X)\n",
        "      loss = criterion(test_pred, y)\n",
        "      test_loss += loss\n",
        "      test_acc += accuracy_fn(test_pred, y)\n",
        "\n",
        "    test_loss /= len(data_loader)\n",
        "    test_acc /= len(data_loader)\n",
        "\n",
        "    print('Test Loss: %s | Test Accuracy: %s' % (test_loss, test_acc))"
      ],
      "metadata": {
        "id": "uA6RgxDDw9Mo"
      },
      "execution_count": 12,
      "outputs": []
    },
    {
      "cell_type": "markdown",
      "source": [
        "## Convolutional Neural Network"
      ],
      "metadata": {
        "id": "CCeGJ2obzXGx"
      }
    },
    {
      "cell_type": "code",
      "source": [
        "#this model is based on https://poloclub.github.io/cnn-explainer/\n",
        "#this website is how we are dictating our hidden layers and number of neruons\n",
        "class Model(nn.Module):\n",
        "  def __init__(self, input_shape:int,\n",
        "               output_shape:int):\n",
        "    super(Model, self).__init__()\n",
        "\n",
        "    self.block1 = nn.Sequential(nn.Conv2d(in_channels=input_shape,\n",
        "                                          out_channels=32,\n",
        "                                          kernel_size=3,\n",
        "                                          stride=1,\n",
        "                                          padding=1),\n",
        "                                nn.ReLU(),\n",
        "                                nn.Conv2d(in_channels=32,\n",
        "                                          out_channels=64,\n",
        "                                          kernel_size=3,\n",
        "                                          stride=1,\n",
        "                                          padding=1),\n",
        "                                nn.ReLU(),\n",
        "                                nn.MaxPool2d(kernel_size=2,\n",
        "                                             stride=2))\n",
        "    self.block2 = nn.Sequential(nn.Conv2d(in_channels=64,\n",
        "                                          out_channels=64,\n",
        "                                          kernel_size=3,\n",
        "                                          stride=1,\n",
        "                                          padding=1),\n",
        "                                nn.ReLU(),\n",
        "                                nn.Conv2d(in_channels=64,\n",
        "                                          out_channels=10,\n",
        "                                          kernel_size=3,\n",
        "                                          stride=1,\n",
        "                                          padding=1),\n",
        "                                nn.ReLU(),\n",
        "                                nn.MaxPool2d(kernel_size=2,\n",
        "                                             stride=2))\n",
        "    self.classifier = nn.Sequential(nn.Flatten(),\n",
        "                                    nn.Linear(in_features=10*8*8,\n",
        "                                              out_features=output_shape))\n",
        "\n",
        "  def forward(self, x):\n",
        "    x = self.block1(x)\n",
        "    #print(x.shape)\n",
        "    x = self.block2(x)\n",
        "    #print(x.shape)\n",
        "    x = self.classifier(x)\n",
        "    return x\n",
        "\n",
        "model = Model(input_shape=3,\n",
        "              output_shape=len(class_names)).to(device)\n",
        "model"
      ],
      "metadata": {
        "colab": {
          "base_uri": "https://localhost:8080/"
        },
        "id": "4DTOFmetzaTL",
        "outputId": "c3263c90-cba4-46c8-d97a-c13d782d20fd"
      },
      "execution_count": 50,
      "outputs": [
        {
          "output_type": "execute_result",
          "data": {
            "text/plain": [
              "Model(\n",
              "  (block1): Sequential(\n",
              "    (0): Conv2d(3, 32, kernel_size=(3, 3), stride=(1, 1), padding=(1, 1))\n",
              "    (1): ReLU()\n",
              "    (2): Conv2d(32, 64, kernel_size=(3, 3), stride=(1, 1), padding=(1, 1))\n",
              "    (3): ReLU()\n",
              "    (4): MaxPool2d(kernel_size=2, stride=2, padding=0, dilation=1, ceil_mode=False)\n",
              "  )\n",
              "  (block2): Sequential(\n",
              "    (0): Conv2d(64, 64, kernel_size=(3, 3), stride=(1, 1), padding=(1, 1))\n",
              "    (1): ReLU()\n",
              "    (2): Conv2d(64, 10, kernel_size=(3, 3), stride=(1, 1), padding=(1, 1))\n",
              "    (3): ReLU()\n",
              "    (4): MaxPool2d(kernel_size=2, stride=2, padding=0, dilation=1, ceil_mode=False)\n",
              "  )\n",
              "  (classifier): Sequential(\n",
              "    (0): Flatten(start_dim=1, end_dim=-1)\n",
              "    (1): Linear(in_features=640, out_features=10, bias=True)\n",
              "  )\n",
              ")"
            ]
          },
          "metadata": {},
          "execution_count": 50
        }
      ]
    },
    {
      "cell_type": "markdown",
      "source": [
        "### Figuring out the shape throughout the model"
      ],
      "metadata": {
        "id": "mxmYWLza21pf"
      }
    },
    {
      "cell_type": "code",
      "source": [
        "rand_img, rand_label = train_data[0]\n",
        "rand_img.shape"
      ],
      "metadata": {
        "colab": {
          "base_uri": "https://localhost:8080/"
        },
        "id": "Fe1_kO2Q3Z_p",
        "outputId": "929af670-3bdf-4637-8eaf-15308ebb0eaa"
      },
      "execution_count": 14,
      "outputs": [
        {
          "output_type": "execute_result",
          "data": {
            "text/plain": [
              "torch.Size([3, 32, 32])"
            ]
          },
          "metadata": {},
          "execution_count": 14
        }
      ]
    },
    {
      "cell_type": "code",
      "source": [
        "#we now want to pass a random image through the model\n",
        "rand_img_tensor = torch.randn(size=(3, 32, 32)).to(device)\n",
        "rand_img_tensor.shape"
      ],
      "metadata": {
        "colab": {
          "base_uri": "https://localhost:8080/"
        },
        "id": "w2EoUWTX3exF",
        "outputId": "57b14e97-3570-47fb-9951-1a9f684353f5"
      },
      "execution_count": 15,
      "outputs": [
        {
          "output_type": "execute_result",
          "data": {
            "text/plain": [
              "torch.Size([3, 32, 32])"
            ]
          },
          "metadata": {},
          "execution_count": 15
        }
      ]
    },
    {
      "cell_type": "code",
      "source": [
        "#model(rand_img_tensor.unsqueeze(0)).to(device)\n",
        "#the code above will give us an error to do the classifier step because we have the wrong shape but then we just have to multiply the nn.Linear infeatures to match the\n",
        "# first matrix using the size we get in the last step. so we can do 10*8*8"
      ],
      "metadata": {
        "id": "B6aY9Anz3lba"
      },
      "execution_count": 16,
      "outputs": []
    },
    {
      "cell_type": "markdown",
      "source": [
        "## Criterion and Optimizer"
      ],
      "metadata": {
        "id": "k8k0cgMn37ta"
      }
    },
    {
      "cell_type": "code",
      "source": [
        "criterion = nn.CrossEntropyLoss()\n",
        "optimizer  = torch.optim.SGD(model.parameters(), lr=1e-2)"
      ],
      "metadata": {
        "id": "nSZawl1i4ykg"
      },
      "execution_count": 52,
      "outputs": []
    },
    {
      "cell_type": "markdown",
      "source": [
        "## Train and Test the Model"
      ],
      "metadata": {
        "id": "IiXeNBzX627y"
      }
    },
    {
      "cell_type": "code",
      "source": [
        "from timeit import default_timer as timer\n",
        "def print_train_time(start: float, end: float, device: torch.device = None):\n",
        "    \"\"\"Prints difference between start and end time.\n",
        "\n",
        "    Args:\n",
        "        start (float): Start time of computation (preferred in timeit format).\n",
        "        end (float): End time of computation.\n",
        "        device ([type], optional): Device that compute is running on. Defaults to None.\n",
        "\n",
        "    Returns:\n",
        "        float: time between start and end in seconds (higher is longer).\n",
        "    \"\"\"\n",
        "    total_time = end - start\n",
        "    print(f\"Train time on {device}: {total_time:.3f} seconds\")\n",
        "    return total_time"
      ],
      "metadata": {
        "id": "zmX37NvB656O"
      },
      "execution_count": 18,
      "outputs": []
    },
    {
      "cell_type": "code",
      "source": [
        "from tqdm.auto import tqdm\n",
        "accuracy_fn = Accuracy(task='multiclass', num_classes=len(class_names)).to(device)\n",
        "\n",
        "train_time_start = timer()\n",
        "\n",
        "epochs = 6\n",
        "\n",
        "for epoch in tqdm(range(epochs)):\n",
        "  print('Epoch: %s \\n-------------' % (epoch))\n",
        "  train(model, train_dataloader, criterion, optimizer, accuracy_fn, device)\n",
        "\n",
        "  test(model, test_dataloader, criterion, optimizer, accuracy_fn, device)\n",
        "\n",
        "train_time_end = timer()\n",
        "total_train_time = print_train_time(start=train_time_start,\n",
        "                                    end=train_time_end,\n",
        "                                    device=device)"
      ],
      "metadata": {
        "colab": {
          "base_uri": "https://localhost:8080/",
          "height": 483,
          "referenced_widgets": [
            "b0146fb97d464b03bf7981a790c8a9df",
            "1cdf164279ae4b1da347355b0df5a3e9",
            "be22b51f52ac4170abdcab02766c8d6d",
            "84227b467051426db28ed0f9f3102897",
            "8fcae0f7e70d493ebbb75da0bb7581b3",
            "8e0568a113b5405ab2a63d87693b63be",
            "6b54e6ba12374943a55fe336a31e6ba8",
            "e7ec8cf089cd471090da26bd7fe2a210",
            "7c17ba98621f4ab785a59339495e3d6e",
            "d00e1af1a3314e18b8e50c5fbc3cb601",
            "c3f5fd1a6ae1474282828aeebb1a75e3"
          ]
        },
        "id": "wtHd4Z8467nJ",
        "outputId": "d8ba1cc7-c77a-4763-d5fe-ac670c716129"
      },
      "execution_count": 53,
      "outputs": [
        {
          "output_type": "display_data",
          "data": {
            "text/plain": [
              "  0%|          | 0/6 [00:00<?, ?it/s]"
            ],
            "application/vnd.jupyter.widget-view+json": {
              "version_major": 2,
              "version_minor": 0,
              "model_id": "b0146fb97d464b03bf7981a790c8a9df"
            }
          },
          "metadata": {}
        },
        {
          "output_type": "stream",
          "name": "stdout",
          "text": [
            "Epoch: 0 \n",
            "-------------\n",
            "Train Loss: tensor(2.1167, device='cuda:0', grad_fn=<DivBackward0>) | Train Accuracy: tensor(0.2192, device='cuda:0')\n",
            "Test Loss: tensor(1.9402, device='cuda:0') | Test Accuracy: tensor(0.3160, device='cuda:0')\n",
            "Epoch: 1 \n",
            "-------------\n",
            "Train Loss: tensor(1.8229, device='cuda:0', grad_fn=<DivBackward0>) | Train Accuracy: tensor(0.3540, device='cuda:0')\n",
            "Test Loss: tensor(1.7145, device='cuda:0') | Test Accuracy: tensor(0.4001, device='cuda:0')\n",
            "Epoch: 2 \n",
            "-------------\n",
            "Train Loss: tensor(1.6274, device='cuda:0', grad_fn=<DivBackward0>) | Train Accuracy: tensor(0.4188, device='cuda:0')\n",
            "Test Loss: tensor(1.5325, device='cuda:0') | Test Accuracy: tensor(0.4533, device='cuda:0')\n",
            "Epoch: 3 \n",
            "-------------\n",
            "Train Loss: tensor(1.4419, device='cuda:0', grad_fn=<DivBackward0>) | Train Accuracy: tensor(0.4834, device='cuda:0')\n",
            "Test Loss: tensor(1.3850, device='cuda:0') | Test Accuracy: tensor(0.5114, device='cuda:0')\n",
            "Epoch: 4 \n",
            "-------------\n",
            "Train Loss: tensor(1.3320, device='cuda:0', grad_fn=<DivBackward0>) | Train Accuracy: tensor(0.5292, device='cuda:0')\n",
            "Test Loss: tensor(1.2646, device='cuda:0') | Test Accuracy: tensor(0.5524, device='cuda:0')\n",
            "Epoch: 5 \n",
            "-------------\n",
            "Train Loss: tensor(1.2516, device='cuda:0', grad_fn=<DivBackward0>) | Train Accuracy: tensor(0.5574, device='cuda:0')\n",
            "Test Loss: tensor(1.2642, device='cuda:0') | Test Accuracy: tensor(0.5500, device='cuda:0')\n",
            "Train time on cuda: 97.157 seconds\n"
          ]
        }
      ]
    },
    {
      "cell_type": "code",
      "source": [],
      "metadata": {
        "id": "zVBuc4IJ8Z1F"
      },
      "execution_count": 19,
      "outputs": []
    }
  ]
}